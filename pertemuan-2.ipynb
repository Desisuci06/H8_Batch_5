{
 "cells": [
  {
   "cell_type": "code",
   "execution_count": 1,
   "id": "ee09dd2b",
   "metadata": {},
   "outputs": [
    {
     "name": "stdout",
     "output_type": "stream",
     "text": [
      "False\n"
     ]
    },
    {
     "data": {
      "text/plain": [
       "False"
      ]
     },
     "execution_count": 1,
     "metadata": {},
     "output_type": "execute_result"
    }
   ],
   "source": [
    "a = 10\n",
    "b = 5\n",
    "print(a == b)\n",
    "False"
   ]
  },
  {
   "cell_type": "code",
   "execution_count": 2,
   "id": "7e6646c3",
   "metadata": {},
   "outputs": [],
   "source": [
    "# \n",
    "a = 10\n",
    "b = 50\n",
    "if a > b:\n",
    "    print(a)"
   ]
  },
  {
   "cell_type": "code",
   "execution_count": 3,
   "id": "1792ea0b",
   "metadata": {},
   "outputs": [
    {
     "name": "stdout",
     "output_type": "stream",
     "text": [
      "aaaa\n"
     ]
    }
   ],
   "source": [
    "'''\n",
    "if <expr>/bool:\n",
    "    <statement>\n",
    "<statement>\n",
    "'''\n",
    "\n",
    "a = 10\n",
    "b = 50\n",
    "if a > b:\n",
    "    print(\"masuk sini\")\n",
    "    print(a)\n",
    "    \n",
    "print(\"aaaa\")"
   ]
  },
  {
   "cell_type": "code",
   "execution_count": 4,
   "id": "a3b9f02e",
   "metadata": {},
   "outputs": [
    {
     "name": "stdout",
     "output_type": "stream",
     "text": [
      "Ini di luar percabangan\n"
     ]
    }
   ],
   "source": [
    "s = \"foos\"\n",
    "a = 10\n",
    "\n",
    "if s in \"this food is good\":\n",
    "    print(\"Cabang 1\")\n",
    "    \n",
    "    if a < 5:\n",
    "        print(\"Cabang 2\")\n",
    "        print(\"Nilai a lebih kecil dari lima\")\n",
    "        \n",
    "    print(\"Kembali ke Cabang 1\")\n",
    "    \n",
    "    if a > 7:\n",
    "        print(\"Cabang 3\")\n",
    "        print(\"NIlai a lebih besar dari tujuh\")\n",
    "    \n",
    "    print(\"Kembali lagi ke cabang 1\")\n",
    "\n",
    "print(\"Ini di luar percabangan\")\n",
    "    "
   ]
  },
  {
   "cell_type": "code",
   "execution_count": 5,
   "id": "e6a77960",
   "metadata": {},
   "outputs": [
    {
     "name": "stdout",
     "output_type": "stream",
     "text": [
      "a lebih besar dari b\n",
      "100\n"
     ]
    }
   ],
   "source": [
    "a = 100\n",
    "b = 50\n",
    "if a > b:\n",
    "    print(\"a lebih besar dari b\")\n",
    "    print(a)    \n",
    "else:\n",
    "    print(\"a lebih kecil dari b\")\n",
    "    print(b)"
   ]
  },
  {
   "cell_type": "code",
   "execution_count": 6,
   "id": "373c9cd6",
   "metadata": {},
   "outputs": [
    {
     "name": "stdout",
     "output_type": "stream",
     "text": [
      "Cabang 1\n",
      "else cabang 2\n",
      "Nilai a lebih besar dari lima\n",
      "Kembali ke Cabang 1\n",
      "Cabang 3\n",
      "NIlai a lebih besar dari tujuh\n",
      "Kembali lagi ke cabang 1\n",
      "Ini di luar percabangan\n"
     ]
    }
   ],
   "source": [
    "s = \"foo\"\n",
    "a = 10\n",
    "\n",
    "if s in \"this food is good\":\n",
    "    print(\"Cabang 1\")\n",
    "    \n",
    "    if a < 5:\n",
    "        print(\"Cabang 2\")\n",
    "        print(\"Nilai a lebih kecil dari lima\")\n",
    "    else:\n",
    "        print(\"else cabang 2\")\n",
    "        print(\"Nilai a lebih besar dari lima\")\n",
    "        \n",
    "    \n",
    "    print(\"Kembali ke Cabang 1\")\n",
    "    \n",
    "    if a > 7:\n",
    "        print(\"Cabang 3\")\n",
    "        print(\"NIlai a lebih besar dari tujuh\")\n",
    "    else:\n",
    "        print(\"else cabang 3\")\n",
    "        print(\"Nilai a lebih kecil dari tujuh\")\n",
    "    \n",
    "    print(\"Kembali lagi ke cabang 1\")\n",
    "\n",
    "print(\"Ini di luar percabangan\")"
   ]
  },
  {
   "cell_type": "code",
   "execution_count": 7,
   "id": "eace93a2",
   "metadata": {},
   "outputs": [
    {
     "name": "stdout",
     "output_type": "stream",
     "text": [
      "beli majalah\n"
     ]
    }
   ],
   "source": [
    "hargaBuku = 20000\n",
    "hargaMajalah = 5000\n",
    "uang = 6000\n",
    "\n",
    "if uang > hargaBuku:\n",
    "    print(\"beli buku\")\n",
    "elif uang > hargaMajalah:\n",
    "    print(\"beli majalah\")\n",
    "else:\n",
    "    print(\"uang tidak cukup\")"
   ]
  },
  {
   "cell_type": "code",
   "execution_count": 8,
   "id": "03433339",
   "metadata": {},
   "outputs": [
    {
     "name": "stdout",
     "output_type": "stream",
     "text": [
      "500\n",
      "a sama dengan b\n"
     ]
    }
   ],
   "source": [
    "a = 500\n",
    "b = 500\n",
    "if a > b: print(a); print(\"a lebih besar dari b\")\n",
    "elif a == b: print(a); print(\"a sama dengan b\")\n",
    "else: print(b); print(\"a lebih kecil dari b\")"
   ]
  },
  {
   "cell_type": "code",
   "execution_count": 9,
   "id": "7af427c7",
   "metadata": {},
   "outputs": [
    {
     "name": "stdout",
     "output_type": "stream",
     "text": [
      "800\n"
     ]
    }
   ],
   "source": [
    "a = 500\n",
    "b = 800\n",
    "\n",
    "maximum = a if a > b else b\n",
    "print(maximum)"
   ]
  },
  {
   "cell_type": "code",
   "execution_count": 10,
   "id": "1475352f",
   "metadata": {},
   "outputs": [
    {
     "name": "stdout",
     "output_type": "stream",
     "text": [
      "ke warnet\n"
     ]
    }
   ],
   "source": [
    "raining = True\n",
    "\n",
    "print(\"Ke pantai\" if not raining else \"ke warnet\")"
   ]
  },
  {
   "cell_type": "code",
   "execution_count": 11,
   "id": "f4ee6e76",
   "metadata": {},
   "outputs": [
    {
     "data": {
      "text/plain": [
       "'\\nwhile <expr>/bool:\\n    <statement>\\n    <statement>\\n    <statement>\\n    <statement>\\n<statement>\\n\\n'"
      ]
     },
     "execution_count": 11,
     "metadata": {},
     "output_type": "execute_result"
    }
   ],
   "source": [
    "'''\n",
    "while <expr>/bool:\n",
    "    <statement>\n",
    "    <statement>\n",
    "    <statement>\n",
    "    <statement>\n",
    "<statement>\n",
    "\n",
    "'''"
   ]
  },
  {
   "cell_type": "code",
   "execution_count": 12,
   "id": "c574e10b",
   "metadata": {},
   "outputs": [
    {
     "name": "stdout",
     "output_type": "stream",
     "text": [
      "1\n",
      "2\n",
      "3\n",
      "4\n",
      "5\n",
      "6\n",
      "7\n",
      "8\n",
      "9\n",
      "10\n"
     ]
    }
   ],
   "source": [
    "# 1 + 2 + 3 + ... + 100\n",
    "\n",
    "n = 1\n",
    "un = 10\n",
    "s = 0\n",
    "\n",
    "while n <= un:\n",
    "    print(n)\n",
    "    s += n # s = s+n\n",
    "    n+=1\n",
    "\n",
    "# print(s)"
   ]
  },
  {
   "cell_type": "code",
   "execution_count": 13,
   "id": "fec4289b",
   "metadata": {},
   "outputs": [
    {
     "name": "stdout",
     "output_type": "stream",
     "text": [
      "11\n"
     ]
    }
   ],
   "source": [
    "print(n)"
   ]
  },
  {
   "cell_type": "code",
   "execution_count": 14,
   "id": "24cdc2f5",
   "metadata": {},
   "outputs": [
    {
     "name": "stdout",
     "output_type": "stream",
     "text": [
      "0\n",
      "di bawah break\n",
      "1\n",
      "di bawah break\n",
      "2\n",
      "di bawah break\n",
      "3\n",
      "di bawah break\n",
      "4\n",
      "di luar loop\n"
     ]
    }
   ],
   "source": [
    "i = 0 \n",
    "while i < 10:\n",
    "    print(i)\n",
    "    if i == 4:\n",
    "        break\n",
    "    print(\"di bawah break\")\n",
    "    i += 1\n",
    "\n",
    "print(\"di luar loop\")"
   ]
  },
  {
   "cell_type": "code",
   "execution_count": 15,
   "id": "343b5671",
   "metadata": {},
   "outputs": [
    {
     "name": "stdout",
     "output_type": "stream",
     "text": [
      "0\n",
      "a b c d \n",
      "1\n",
      "a b c d \n",
      "2\n",
      "a b c d \n",
      "3\n",
      "a b c d \n",
      "4\n",
      "a b c d \n",
      "5\n",
      "a b c d \n",
      "6\n",
      "a b c d \n",
      "7\n",
      "a b c d \n",
      "8\n",
      "a b c d \n",
      "9\n",
      "a b c d \n"
     ]
    }
   ],
   "source": [
    "a = ['a','b','c','d']\n",
    "n = len(a)\n",
    "\n",
    "i = 0\n",
    "\n",
    "while i < 10:\n",
    "    print(i)\n",
    "    j = 0\n",
    "    while j < n:\n",
    "        print(a[j], end=\" \")\n",
    "        j+=1\n",
    "    i+=1\n",
    "    print()\n",
    "        "
   ]
  },
  {
   "cell_type": "code",
   "execution_count": null,
   "id": "2e83010a",
   "metadata": {},
   "outputs": [],
   "source": []
  }
 ],
 "metadata": {
  "kernelspec": {
   "display_name": "Python 3 (ipykernel)",
   "language": "python",
   "name": "python3"
  },
  "language_info": {
   "codemirror_mode": {
    "name": "ipython",
    "version": 3
   },
   "file_extension": ".py",
   "mimetype": "text/x-python",
   "name": "python",
   "nbconvert_exporter": "python",
   "pygments_lexer": "ipython3",
   "version": "3.11.4"
  }
 },
 "nbformat": 4,
 "nbformat_minor": 5
}
