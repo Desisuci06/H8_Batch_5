{
 "cells": [
  {
   "cell_type": "markdown",
   "id": "9b26c3f6",
   "metadata": {},
   "source": [
    "## Tipe Data\n",
    "### Integer "
   ]
  },
  {
   "cell_type": "code",
   "execution_count": 7,
   "id": "c33ef049",
   "metadata": {},
   "outputs": [
    {
     "data": {
      "text/plain": [
       "15"
      ]
     },
     "execution_count": 7,
     "metadata": {},
     "output_type": "execute_result"
    }
   ],
   "source": [
    "10 + 5"
   ]
  },
  {
   "cell_type": "code",
   "execution_count": 8,
   "id": "6ce5efb5",
   "metadata": {},
   "outputs": [
    {
     "data": {
      "text/plain": [
       "28"
      ]
     },
     "execution_count": 8,
     "metadata": {},
     "output_type": "execute_result"
    }
   ],
   "source": [
    "7*4"
   ]
  },
  {
   "cell_type": "code",
   "execution_count": 9,
   "id": "f35a568d",
   "metadata": {},
   "outputs": [
    {
     "data": {
      "text/plain": [
       "0.8571428571428571"
      ]
     },
     "execution_count": 9,
     "metadata": {},
     "output_type": "execute_result"
    }
   ],
   "source": [
    "6/7"
   ]
  },
  {
   "cell_type": "code",
   "execution_count": 10,
   "id": "0e891b7f",
   "metadata": {},
   "outputs": [
    {
     "name": "stdout",
     "output_type": "stream",
     "text": [
      "<class 'int'>\n"
     ]
    }
   ],
   "source": [
    "print(type(10))"
   ]
  },
  {
   "cell_type": "markdown",
   "id": "a7da6459",
   "metadata": {},
   "source": [
    "# Float"
   ]
  },
  {
   "cell_type": "code",
   "execution_count": 11,
   "id": "d86c9e82",
   "metadata": {},
   "outputs": [
    {
     "name": "stdout",
     "output_type": "stream",
     "text": [
      "<class 'float'>\n"
     ]
    }
   ],
   "source": [
    "print(type(0.8571428571428571))"
   ]
  },
  {
   "cell_type": "markdown",
   "id": "b4b568af",
   "metadata": {},
   "source": [
    "## String"
   ]
  },
  {
   "cell_type": "code",
   "execution_count": 12,
   "id": "9c3aeb64",
   "metadata": {},
   "outputs": [
    {
     "name": "stdout",
     "output_type": "stream",
     "text": [
      "Agus10\n"
     ]
    }
   ],
   "source": [
    "print(\"Agus10\")"
   ]
  },
  {
   "cell_type": "code",
   "execution_count": 13,
   "id": "8eb21494",
   "metadata": {},
   "outputs": [
    {
     "name": "stdout",
     "output_type": "stream",
     "text": [
      "<class 'str'>\n"
     ]
    }
   ],
   "source": [
    "print(type(\"Agus10\"))"
   ]
  },
  {
   "cell_type": "code",
   "execution_count": 14,
   "id": "f0ef1c2d",
   "metadata": {},
   "outputs": [
    {
     "name": "stdout",
     "output_type": "stream",
     "text": [
      "<class 'str'>\n"
     ]
    }
   ],
   "source": [
    "print(type(''))"
   ]
  },
  {
   "cell_type": "markdown",
   "id": "0e5762c8",
   "metadata": {},
   "source": [
    "## Bolean"
   ]
  },
  {
   "cell_type": "code",
   "execution_count": 15,
   "id": "80830851",
   "metadata": {},
   "outputs": [
    {
     "name": "stdout",
     "output_type": "stream",
     "text": [
      "True\n",
      "False\n"
     ]
    }
   ],
   "source": [
    "print(True)\n",
    "print(False)"
   ]
  },
  {
   "cell_type": "code",
   "execution_count": 16,
   "id": "5b26f73e",
   "metadata": {},
   "outputs": [
    {
     "name": "stdout",
     "output_type": "stream",
     "text": [
      "<class 'bool'>\n",
      "<class 'bool'>\n"
     ]
    }
   ],
   "source": [
    "print(type(True))\n",
    "print(type(False))"
   ]
  },
  {
   "cell_type": "markdown",
   "id": "7523e1d6",
   "metadata": {},
   "source": [
    "## Variable\n"
   ]
  },
  {
   "cell_type": "code",
   "execution_count": 17,
   "id": "cb39e43d",
   "metadata": {},
   "outputs": [],
   "source": [
    "n = 100"
   ]
  },
  {
   "cell_type": "code",
   "execution_count": 18,
   "id": "02b34897",
   "metadata": {},
   "outputs": [
    {
     "name": "stdout",
     "output_type": "stream",
     "text": [
      "100\n"
     ]
    }
   ],
   "source": [
    "print(n)"
   ]
  },
  {
   "cell_type": "code",
   "execution_count": 19,
   "id": "21eee465",
   "metadata": {},
   "outputs": [
    {
     "name": "stdout",
     "output_type": "stream",
     "text": [
      "50.0\n",
      "50\n"
     ]
    }
   ],
   "source": [
    "print(n/2)\n",
    "print(n//2)"
   ]
  },
  {
   "cell_type": "code",
   "execution_count": 20,
   "id": "b14e5e48",
   "metadata": {},
   "outputs": [
    {
     "name": "stdout",
     "output_type": "stream",
     "text": [
      "Agus 18 True\n"
     ]
    }
   ],
   "source": [
    "nama = \"Agus\"\n",
    "umur = 18\n",
    "has_laptops = True\n",
    "\n",
    "print(nama, umur, has_laptops)"
   ]
  },
  {
   "cell_type": "code",
   "execution_count": 21,
   "id": "11c0c78b",
   "metadata": {},
   "outputs": [],
   "source": [
    "_nama = \"Budi\""
   ]
  },
  {
   "cell_type": "code",
   "execution_count": 22,
   "id": "6d82fd5d",
   "metadata": {},
   "outputs": [
    {
     "data": {
      "text/plain": [
       "'Budi'"
      ]
     },
     "execution_count": 22,
     "metadata": {},
     "output_type": "execute_result"
    }
   ],
   "source": [
    "_nama"
   ]
  },
  {
   "cell_type": "markdown",
   "id": "25299d98",
   "metadata": {},
   "source": [
    "## Operator"
   ]
  },
  {
   "cell_type": "code",
   "execution_count": 23,
   "id": "9c416af0",
   "metadata": {},
   "outputs": [],
   "source": [
    "a = 10\n",
    "b = 15"
   ]
  },
  {
   "cell_type": "code",
   "execution_count": 24,
   "id": "b6b05203",
   "metadata": {},
   "outputs": [
    {
     "data": {
      "text/plain": [
       "25"
      ]
     },
     "execution_count": 24,
     "metadata": {},
     "output_type": "execute_result"
    }
   ],
   "source": [
    "a + b"
   ]
  },
  {
   "cell_type": "code",
   "execution_count": 25,
   "id": "a1d6dcd0",
   "metadata": {},
   "outputs": [
    {
     "data": {
      "text/plain": [
       "20"
      ]
     },
     "execution_count": 25,
     "metadata": {},
     "output_type": "execute_result"
    }
   ],
   "source": [
    "a + b - 5"
   ]
  },
  {
   "cell_type": "code",
   "execution_count": 26,
   "id": "d715db02",
   "metadata": {},
   "outputs": [
    {
     "data": {
      "text/plain": [
       "50"
      ]
     },
     "execution_count": 26,
     "metadata": {},
     "output_type": "execute_result"
    }
   ],
   "source": [
    "a + (b - 5) * 4"
   ]
  },
  {
   "cell_type": "code",
   "execution_count": 27,
   "id": "d4c427dd",
   "metadata": {},
   "outputs": [
    {
     "data": {
      "text/plain": [
       "5"
      ]
     },
     "execution_count": 27,
     "metadata": {},
     "output_type": "execute_result"
    }
   ],
   "source": [
    "b % a"
   ]
  },
  {
   "cell_type": "code",
   "execution_count": 28,
   "id": "159521bd",
   "metadata": {},
   "outputs": [
    {
     "data": {
      "text/plain": [
       "1000000000000000"
      ]
     },
     "execution_count": 28,
     "metadata": {},
     "output_type": "execute_result"
    }
   ],
   "source": [
    "a ** b"
   ]
  },
  {
   "cell_type": "code",
   "execution_count": 29,
   "id": "961600f1",
   "metadata": {},
   "outputs": [
    {
     "name": "stdout",
     "output_type": "stream",
     "text": [
      "False\n",
      "True\n",
      "True\n",
      "False\n",
      "True\n",
      "False\n"
     ]
    }
   ],
   "source": [
    "a = 10\n",
    "b = 20\n",
    "\n",
    "print(a == b)\n",
    "print(a != b)\n",
    "print(a <= b)\n",
    "print(a >= b)\n",
    "print(a < b)\n",
    "print(a > b)"
   ]
  },
  {
   "cell_type": "code",
   "execution_count": 30,
   "id": "72ca7081",
   "metadata": {},
   "outputs": [
    {
     "data": {
      "text/plain": [
       "True"
      ]
     },
     "execution_count": 30,
     "metadata": {},
     "output_type": "execute_result"
    }
   ],
   "source": [
    "10 >= 10"
   ]
  },
  {
   "cell_type": "code",
   "execution_count": 31,
   "id": "8c3d056a",
   "metadata": {},
   "outputs": [
    {
     "data": {
      "text/plain": [
       "False"
      ]
     },
     "execution_count": 31,
     "metadata": {},
     "output_type": "execute_result"
    }
   ],
   "source": [
    "10 > 10"
   ]
  },
  {
   "cell_type": "code",
   "execution_count": 32,
   "id": "ac72c2e0",
   "metadata": {},
   "outputs": [],
   "source": [
    "s = \"string\"\n",
    "t = \"tatatat\"\n",
    "u = \"uzuzuzuz\""
   ]
  },
  {
   "cell_type": "code",
   "execution_count": 33,
   "id": "9fd16803",
   "metadata": {},
   "outputs": [
    {
     "name": "stdout",
     "output_type": "stream",
     "text": [
      "string tatatat\n"
     ]
    }
   ],
   "source": [
    "print(s + \" \" + t)"
   ]
  },
  {
   "cell_type": "code",
   "execution_count": 34,
   "id": "a032baa9",
   "metadata": {},
   "outputs": [
    {
     "name": "stdout",
     "output_type": "stream",
     "text": [
      "String kedua\n",
      "string kedua\n",
      "STRinG KeDUa\n",
      "String Kedua\n",
      "STRING KEDUA\n"
     ]
    }
   ],
   "source": [
    "s = \"strINg kEduA\"\n",
    "\n",
    "print(s.capitalize())\n",
    "print(s.lower())\n",
    "print(s.swapcase())\n",
    "print(s.title())\n",
    "print(s.upper())"
   ]
  },
  {
   "cell_type": "code",
   "execution_count": 35,
   "id": "5de9189f",
   "metadata": {},
   "outputs": [],
   "source": [
    "nama_peserta_kelas = [\"Agus\", \"Budi\", \"Cinta\", \"Dono\", \"Erwin\"]"
   ]
  },
  {
   "cell_type": "code",
   "execution_count": 36,
   "id": "fe70a93e",
   "metadata": {},
   "outputs": [
    {
     "name": "stdout",
     "output_type": "stream",
     "text": [
      "['Agus', 'Budi', 'Cinta', 'Dono', 'Erwin']\n"
     ]
    }
   ],
   "source": [
    "print(nama_peserta_kelas)"
   ]
  },
  {
   "cell_type": "code",
   "execution_count": 37,
   "id": "a4c86691",
   "metadata": {},
   "outputs": [],
   "source": [
    "nama_peserta_kelas_2 = [\"Budi\", \"Agus\", \"Cinta\", \"Erwin\", \"Dono\"]"
   ]
  },
  {
   "cell_type": "code",
   "execution_count": 38,
   "id": "cceed6ea",
   "metadata": {},
   "outputs": [
    {
     "data": {
      "text/plain": [
       "False"
      ]
     },
     "execution_count": 38,
     "metadata": {},
     "output_type": "execute_result"
    }
   ],
   "source": [
    "nama_peserta_kelas == nama_peserta_kelas_2"
   ]
  },
  {
   "cell_type": "code",
   "execution_count": null,
   "id": "301b2e32",
   "metadata": {},
   "outputs": [],
   "source": []
  }
 ],
 "metadata": {
  "kernelspec": {
   "display_name": "Python 3 (ipykernel)",
   "language": "python",
   "name": "python3"
  },
  "language_info": {
   "codemirror_mode": {
    "name": "ipython",
    "version": 3
   },
   "file_extension": ".py",
   "mimetype": "text/x-python",
   "name": "python",
   "nbconvert_exporter": "python",
   "pygments_lexer": "ipython3",
   "version": "3.11.4"
  }
 },
 "nbformat": 4,
 "nbformat_minor": 5
}
